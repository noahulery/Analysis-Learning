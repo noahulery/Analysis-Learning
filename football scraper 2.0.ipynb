{
 "cells": [
  {
   "cell_type": "code",
   "execution_count": 79,
   "metadata": {},
   "outputs": [],
   "source": [
    "# Packages\n",
    "from urllib.request import urlopen\n",
    "from bs4 import BeautifulSoup as soup\n",
    "import pandas as pd\n",
    "\n",
    "# The Pages I'm Using\n",
    "\n",
    "weeks = [\"/years/2019/week_1.htm\",\n",
    "         \"/years/2019/week_2.htm\",\n",
    "         \"/years/2019/week_3.htm\",\n",
    "         \"/years/2019/week_4.htm\",\n",
    "         \"/years/2019/week_5.htm\",\n",
    "         \"/years/2019/week_6.htm\",\n",
    "         \"/years/2019/week_7.htm\",\n",
    "         \"/years/2019/week_8.htm\",\n",
    "         \"/years/2019/week_9.htm\",\n",
    "         \"/years/2019/week_10.htm\",\n",
    "         \"/years/2019/week_11.htm\",\n",
    "         \"/years/2019/week_12.htm\",\n",
    "         \"/years/2019/week_13.htm\",\n",
    "         \"/years/2019/week_14.htm\",\n",
    "         \"/years/2019/week_15.htm\",\n",
    "         \"/years/2019/week_16.htm\",\n",
    "         \"/years/2019/week_17.htm\"]\n",
    "\n",
    "base_url = 'https://www.pro-football-reference.com'\n",
    "searching_url = base_url + weeks[1]\n",
    "url_client = urlopen(searching_url)\n",
    "html_url = url_client.read()\n",
    "url_client.close()\n",
    "soup_url = soup(html_url, 'html.parser')"
   ]
  },
  {
   "cell_type": "code",
   "execution_count": 90,
   "metadata": {},
   "outputs": [
    {
     "data": {
      "text/plain": [
       "<a href=\"/boxscores/201909120car.htm\">Final</a>"
      ]
     },
     "execution_count": 90,
     "metadata": {},
     "output_type": "execute_result"
    }
   ],
   "source": [
    "links = soup_url.body.div.table.tbody.findAll('a')\n",
    "links[1]"
   ]
  },
  {
   "cell_type": "code",
   "execution_count": null,
   "metadata": {},
   "outputs": [],
   "source": []
  }
 ],
 "metadata": {
  "kernelspec": {
   "display_name": "Python 3",
   "language": "python",
   "name": "python3"
  },
  "language_info": {
   "codemirror_mode": {
    "name": "ipython",
    "version": 3
   },
   "file_extension": ".py",
   "mimetype": "text/x-python",
   "name": "python",
   "nbconvert_exporter": "python",
   "pygments_lexer": "ipython3",
   "version": "3.7.6"
  }
 },
 "nbformat": 4,
 "nbformat_minor": 4
}
