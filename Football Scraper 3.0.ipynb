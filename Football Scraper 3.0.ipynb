{
 "cells": [
  {
   "cell_type": "code",
   "execution_count": 1,
   "metadata": {},
   "outputs": [],
   "source": [
    "from urllib.request import urlopen\n",
    "from bs4 import BeautifulSoup as soup\n",
    "import pandas as pd\n",
    "\n",
    "\n",
    "\n",
    "# this will collect the url for every year page and store it in year_links\n",
    "first_url = 'https://www.foxsports.com/nfl/stats?season=2019&week=101&category=RUSHING'\n",
    "searching_url = first_url\n",
    "url_client = urlopen(searching_url)\n",
    "html_url = url_client.read()\n",
    "url_client.close()\n",
    "soup_url = soup(html_url, 'html.parser')\n",
    "\n",
    "page_stats = soup_url.table.findAll('th')\n",
    "page_stats.pop(0)\n",
    "rush_stats = ['Player Name', 'Team']\n",
    "for stat in page_stats:\n",
    "    rush_stats.append(stat.text.strip())\n",
    "\n",
    "rush_stats\n",
    "numbers = soup_url.table.tbody.findAll('td', {'class' : 'wisbb_priorityColumn'})\n",
    "\n",
    "\n",
    "\n",
    "names = soup_url.table.tbody.findAll('a')\n",
    "name_list_raw = []\n",
    "name_list = []\n",
    "count = 0\n",
    "for name in names:   \n",
    "    name_list_raw.append(names[count].span)\n",
    "    count += 1\n"
   ]
  },
  {
   "cell_type": "code",
   "execution_count": 50,
   "metadata": {},
   "outputs": [],
   "source": [
    "\n",
    "    "
   ]
  },
  {
   "cell_type": "code",
   "execution_count": 58,
   "metadata": {},
   "outputs": [],
   "source": []
  },
  {
   "cell_type": "code",
   "execution_count": 108,
   "metadata": {},
   "outputs": [
    {
     "data": {
      "text/plain": [
       "'Mack, Marlon'"
      ]
     },
     "execution_count": 108,
     "metadata": {},
     "output_type": "execute_result"
    }
   ],
   "source": []
  },
  {
   "cell_type": "code",
   "execution_count": 157,
   "metadata": {},
   "outputs": [],
   "source": []
  },
  {
   "cell_type": "code",
   "execution_count": 165,
   "metadata": {},
   "outputs": [
    {
     "data": {
      "text/plain": [
       "[<span>Mack, Marlon</span>,\n",
       " None,\n",
       " <span>McCaffrey, Christian</span>,\n",
       " None,\n",
       " <span>Barkley, Saquon</span>,\n",
       " None,\n",
       " <span>Cook, Dalvin</span>,\n",
       " None,\n",
       " <span>Ingram II, Mark</span>,\n",
       " None,\n",
       " <span>Gurley II, Todd</span>,\n",
       " None,\n",
       " <span>Kamara, Alvin</span>,\n",
       " None,\n",
       " <span>Jacobs, Josh</span>,\n",
       " None,\n",
       " <span>Henry, Derrick</span>,\n",
       " None,\n",
       " <span>Hyde, Carlos</span>,\n",
       " None,\n",
       " <span>Johnson, David</span>,\n",
       " None,\n",
       " <span>McCoy, LeSean</span>,\n",
       " None,\n",
       " <span>Chubb, Nick</span>,\n",
       " None,\n",
       " <span>Jones II, Ronald</span>,\n",
       " None,\n",
       " <span>Singletary, Devin</span>,\n",
       " None,\n",
       " <span>Fournette, Leonard</span>,\n",
       " None,\n",
       " <span>Levine Sr., Anthony</span>,\n",
       " None,\n",
       " <span>Bell, Le'Veon</span>,\n",
       " None,\n",
       " <span>Ekeler, Austin</span>,\n",
       " None,\n",
       " <span>Johnson Jr., Duke</span>,\n",
       " None,\n",
       " <span>Jackson, Justin</span>,\n",
       " None,\n",
       " <span>Freeman, Royce</span>,\n",
       " None,\n",
       " <span>Edwards, Gus</span>,\n",
       " None,\n",
       " <span>Brown, Malcolm</span>,\n",
       " None,\n",
       " <span>Elliott, Ezekiel</span>,\n",
       " None,\n",
       " <span>Johnson, Kerryon</span>,\n",
       " None,\n",
       " <span>Mattison, Alexander</span>,\n",
       " None,\n",
       " <span>Sproles, Darren</span>,\n",
       " None,\n",
       " <span>Carson, Chris</span>,\n",
       " None,\n",
       " <span>Burkhead, Rex</span>,\n",
       " None,\n",
       " <span>Howard, Jordan</span>,\n",
       " None,\n",
       " <span>Murray, Latavius</span>,\n",
       " None,\n",
       " <span>Lindsay, Phillip</span>,\n",
       " None,\n",
       " <span>Mostert, Raheem</span>,\n",
       " None,\n",
       " <span>Watson, Deshaun</span>,\n",
       " None,\n",
       " <span>Jones, Aaron</span>,\n",
       " None,\n",
       " <span>Allen, Josh</span>,\n",
       " None,\n",
       " <span>Breida, Matt</span>,\n",
       " None,\n",
       " <span>Anderson, C.J.</span>,\n",
       " None,\n",
       " <span>Barber, Peyton</span>,\n",
       " None,\n",
       " <span>Smith, Ito</span>,\n",
       " None,\n",
       " <span>Hill, Justice</span>,\n",
       " None,\n",
       " <span>White, James</span>,\n",
       " None,\n",
       " <span>Williams, Damien</span>,\n",
       " None,\n",
       " <span>Sanders, Miles</span>,\n",
       " None,\n",
       " <span>Ryan, Matt</span>,\n",
       " None,\n",
       " <span>Mariota, Marcus</span>,\n",
       " None,\n",
       " <span>Pollard, Tony</span>,\n",
       " None,\n",
       " <span>Coleman, Tevin</span>,\n",
       " None,\n",
       " <span>Stafford, Matthew</span>,\n",
       " None]"
      ]
     },
     "execution_count": 165,
     "metadata": {},
     "output_type": "execute_result"
    }
   ],
   "source": []
  }
 ],
 "metadata": {
  "kernelspec": {
   "display_name": "Python 3",
   "language": "python",
   "name": "python3"
  },
  "language_info": {
   "codemirror_mode": {
    "name": "ipython",
    "version": 3
   },
   "file_extension": ".py",
   "mimetype": "text/x-python",
   "name": "python",
   "nbconvert_exporter": "python",
   "pygments_lexer": "ipython3",
   "version": "3.7.6"
  }
 },
 "nbformat": 4,
 "nbformat_minor": 4
}
